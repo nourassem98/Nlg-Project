{
  "nbformat": 4,
  "nbformat_minor": 0,
  "metadata": {
    "colab": {
      "name": "NLG for hiding learning information.ipynb",
      "provenance": [],
      "collapsed_sections": []
    },
    "kernelspec": {
      "display_name": "Python 3",
      "name": "python3"
    }
  },
  "cells": [
    {
      "cell_type": "code",
      "metadata": {
        "id": "eqrzbMHkLYOa"
      },
      "source": [
        "! pip install git+git://github.com/huggingface/transformers/\n",
        "!pip install --upgrade tensorflow\n",
        "!python -m pip install --upgrade pip"
      ],
      "execution_count": null,
      "outputs": []
    },
    {
      "cell_type": "code",
      "metadata": {
        "id": "jxrF-5yFLkRR"
      },
      "source": [
        "from google.colab import drive \n",
        "drive.mount('/content/gdrive')"
      ],
      "execution_count": null,
      "outputs": []
    },
    {
      "cell_type": "markdown",
      "metadata": {
        "id": "1qx0nyus3B64"
      },
      "source": [
        "# Pre-Processing  dataset and Training Model"
      ]
    },
    {
      "cell_type": "code",
      "metadata": {
        "id": "O2WflVojPkg9"
      },
      "source": [
        "!mkdir wikiPlots\n",
        "!unzip '/content/gdrive/MyDrive/WikiMoviePlots.zip' -d 'wikiPlots'\n",
        "import pandas as pd\n",
        "import io\n",
        "import numpy as np"
      ],
      "execution_count": null,
      "outputs": []
    },
    {
      "cell_type": "code",
      "metadata": {
        "id": "3xo6DJXkQHtr"
      },
      "source": [
        "df = pd.read_csv(\"/content/wikiPlots/wiki_movie_plots_deduped.csv\", na_values = ['no info', '.'])\n",
        "df.reset_index(drop=True, inplace=True)\n",
        "genre_selection=df.loc[df['Genre'] == \"comedy\"]\n",
        "tmp=genre_selection['Plot'].tolist()\n",
        "tmp= np.array([('<BOS> <comedy> '+xi +' <EOS>') for xi in tmp])\n",
        "np.savetxt(r'/content/wikiPlots/comedyText.txt',tmp, fmt='%s')"
      ],
      "execution_count": null,
      "outputs": []
    },
    {
      "cell_type": "code",
      "metadata": {
        "id": "OxI5blmXFvvi"
      },
      "source": [
        "!split -b $(expr $(cat '/content/wikiPlots/comedyText.txt' | wc -m) \\* 80 / 100) '/content/wikiPlots/comedyText.txt' 'comedy_train.txt'"
      ],
      "execution_count": null,
      "outputs": []
    },
    {
      "cell_type": "code",
      "metadata": {
        "id": "_Rb1BSLugcZn"
      },
      "source": [
        "!pip install transformers torch"
      ],
      "execution_count": null,
      "outputs": []
    },
    {
      "cell_type": "code",
      "metadata": {
        "id": "ltEwIIMDg9ex"
      },
      "source": [
        "import logging\n",
        "import math\n",
        "import os\n",
        "from dataclasses import dataclass, field\n",
        "from typing import Optional\n",
        "\n",
        "from transformers import (\n",
        "    CONFIG_MAPPING,\n",
        "    MODEL_WITH_LM_HEAD_MAPPING,\n",
        "    AutoConfig,\n",
        "    AutoModelWithLMHead,\n",
        "    GPT2LMHeadModel,\n",
        "    AutoTokenizer,\n",
        "    DataCollatorForLanguageModeling,\n",
        "    DataCollatorForPermutationLanguageModeling,\n",
        "    HfArgumentParser,\n",
        "    LineByLineTextDataset,\n",
        "    PreTrainedTokenizer,\n",
        "    TextDataset,\n",
        "    Trainer,\n",
        "    TrainingArguments,\n",
        "    set_seed,\n",
        ")\n",
        "\n",
        "# Setup logging\n",
        "logger = logging.getLogger(__name__)\n",
        "\n",
        "# Get access to model types and model configs to select GPT2 model and config\n",
        "MODEL_CONFIG_CLASSES = list(MODEL_WITH_LM_HEAD_MAPPING.keys())\n",
        "MODEL_TYPES = tuple(conf.model_type for conf in MODEL_CONFIG_CLASSES)\n",
        "\n"
      ],
      "execution_count": null,
      "outputs": []
    },
    {
      "cell_type": "code",
      "metadata": {
        "id": "IL0YR9WMhG0v"
      },
      "source": [
        "@dataclass\n",
        "class ModelArguments:\n",
        "    \"\"\"\n",
        "    Arguments pertaining to which model/config/tokenizer we are going to fine-tune, or train from scratch.\n",
        "    \"\"\"\n",
        "\n",
        "    model_name_or_path: Optional[str] = field(\n",
        "        default=None,\n",
        "        metadata={\n",
        "            \"help\": \"The model checkpoint for weights initialization. Leave None if you want to train a model from scratch.\"\n",
        "        },\n",
        "\n",
        "    )\n",
        "    model_type: Optional[str] = field(\n",
        "        default=None,\n",
        "        metadata={\n",
        "            \"help\": \"If training from scratch, pass a model type from the list: \"\n",
        "            + \", \".join(MODEL_TYPES)\n",
        "        },\n",
        "    )\n",
        "    cache_dir: Optional[str] = field(\n",
        "        default=None,\n",
        "        metadata={\n",
        "            \"help\": \"Where do you want to store the pretrained models downloaded from s3\"\n",
        "        },\n",
        "    )\n"
      ],
      "execution_count": null,
      "outputs": []
    },
    {
      "cell_type": "code",
      "metadata": {
        "id": "fX9aWWf1hL4X"
      },
      "source": [
        "@dataclass\n",
        "class DataTrainingArguments:\n",
        "    \"\"\"\n",
        "    Arguments pertaining to what data we are going to input our model for training and eval.\n",
        "    \"\"\"\n",
        "\n",
        "    train_data_file: Optional[str] = field(\n",
        "        default=None, metadata={\"help\": \"The input training data file (a text file).\"}\n",
        "    )\n",
        "    eval_data_file: Optional[str] = field(\n",
        "        default=None,\n",
        "        metadata={\n",
        "            \"help\": \"An optional input evaluation data file to evaluate the perplexity on (a text file).\"\n",
        "        },\n",
        "    )\n",
        "    line_by_line: bool = field(\n",
        "        default=False,\n",
        "        metadata={\n",
        "            \"help\": \"Whether distinct lines of text in the dataset are to be handled as distinct sequences.\"\n",
        "        },\n",
        "    )\n",
        "\n",
        "    mlm: bool = field(\n",
        "        default=False,\n",
        "        metadata={\n",
        "            \"help\": \"Train with masked-language modeling loss instead of language modeling.\"\n",
        "        },\n",
        "    )\n",
        "\n",
        "    block_size: int = field(\n",
        "        default=-1,\n",
        "        metadata={\n",
        "            \"help\": \"Optional input sequence length after tokenization.\"\n",
        "            \"The training dataset will be truncated in block of this size for training.\"\n",
        "            \"Default to the model max input length for single sentence inputs (take into account special tokens).\"\n",
        "        },\n",
        "    )\n",
        "    overwrite_cache: bool = field(\n",
        "        default=False,\n",
        "        metadata={\"help\": \"Overwrite the cached training and evaluation sets\"},\n",
        "    )\n",
        "\n"
      ],
      "execution_count": null,
      "outputs": []
    },
    {
      "cell_type": "code",
      "metadata": {
        "id": "Od_Gxsz1hZvV"
      },
      "source": [
        "# Create LineByLineDataset from Movie Plots text file\n",
        "def get_dataset(\n",
        "    args: DataTrainingArguments, tokenizer: PreTrainedTokenizer, evaluate=False\n",
        "):\n",
        "    file_path = args.eval_data_file if evaluate else args.train_data_file\n",
        "    if args.line_by_line:\n",
        "        return LineByLineTextDataset(\n",
        "            tokenizer=tokenizer, file_path=file_path, block_size=args.block_size\n",
        "        )\n",
        "    else:\n",
        "        return TextDataset(\n",
        "            tokenizer=tokenizer,\n",
        "            file_path=file_path,\n",
        "            block_size=args.block_size,\n",
        "            overwrite_cache=args.overwrite_cache,\n",
        "        )\n"
      ],
      "execution_count": null,
      "outputs": []
    },
    {
      "cell_type": "code",
      "metadata": {
        "id": "AXE6Zq8-hikF"
      },
      "source": [
        "def main():\n",
        "\n",
        "    model_args = ModelArguments(\n",
        "        model_name_or_path=\"/content/gdrive/MyDrive/story_generator_checkpoint\", model_type=\"gpt2-medium\"\n",
        "        # , cache_dir=\"\"\n",
        "    )\n",
        "    data_args = DataTrainingArguments(\n",
        "        train_data_file=\"/content/train_text1.txt\",\n",
        "        eval_data_file=\"/content/eval_text1.txt\",\n",
        "        line_by_line=True,\n",
        "        block_size=512,\n",
        "        overwrite_cache=True,\n",
        "    )\n",
        "    training_args = TrainingArguments(\n",
        "        output_dir=\"story_generator_checkpoint\",\n",
        "        overwrite_output_dir=True,\n",
        "        do_train=True,\n",
        "        do_eval=True,\n",
        "        # evaluate_during_training=False,\n",
        "        logging_steps=500,\n",
        "        per_device_train_batch_size=2,\n",
        "        num_train_epochs=2,\n",
        "        save_total_limit=1,\n",
        "        save_steps=1000,\n",
        "        learning_rate=2e-5,\n",
        "        per_device_eval_batch_size=2,\n",
        "        weight_decay=0.01,\n",
        "        load_best_model_at_end=True,\n",
        "    )\n",
        "\n",
        "    if data_args.eval_data_file is None and training_args.do_eval:\n",
        "        raise ValueError(\n",
        "            \"Cannot do evaluation without an evaluation data file. Either supply a file to --eval_data_file \"\n",
        "            \"or remove the --do_eval argument.\"\n",
        "        )\n",
        "\n",
        "    if (\n",
        "        os.path.exists(training_args.output_dir)\n",
        "        and os.listdir(training_args.output_dir)\n",
        "        and training_args.do_train\n",
        "        and not training_args.overwrite_output_dir\n",
        "    ):\n",
        "        raise ValueError(\n",
        "            f\"Output directory ({training_args.output_dir}) already exists and is not empty. Use --overwrite_output_dir to overcome.\"\n",
        "        )\n",
        "\n",
        "    # Setup logging\n",
        "    logging.basicConfig(\n",
        "        format=\"%(asctime)s - %(levelname)s - %(name)s -   %(message)s\",\n",
        "        datefmt=\"%m/%d/%Y %H:%M:%S\",\n",
        "        level=logging.INFO if training_args.local_rank in [-1, 0] else logging.WARN,\n",
        "    )\n",
        "    logger.warning(\n",
        "        \"Process rank: %s, device: %s, n_gpu: %s, distributed training: %s, 16-bits training: %s\",\n",
        "        training_args.local_rank,\n",
        "        training_args.device,\n",
        "        training_args.n_gpu,\n",
        "        bool(training_args.local_rank != -1),\n",
        "        training_args.fp16,\n",
        "    )\n",
        "    logger.info(\"Training/evaluation parameters %s\", training_args)\n",
        "\n",
        "    # Set seed for deterministic training runs\n",
        "    set_seed(training_args.seed)\n",
        "\n",
        "\n",
        "    config = AutoConfig.from_pretrained(\n",
        "        model_args.model_name_or_path, cache_dir=model_args.cache_dir\n",
        "    )\n",
        "\n",
        "    tokenizer = AutoTokenizer.from_pretrained(\n",
        "        model_args.model_name_or_path, cache_dir=model_args.cache_dir\n",
        "    )\n",
        "\n",
        "    model = GPT2LMHeadModel.from_pretrained(\n",
        "        model_args.model_name_or_path,\n",
        "        from_tf=bool(\".ckpt\" in model_args.model_name_or_path),\n",
        "        config=config,\n",
        "        cache_dir=model_args.cache_dir,\n",
        "    )\n",
        "\n",
        "    special_tokens_dict = {\n",
        "        \"bos_token\": \"<BOS>\",\n",
        "        \"eos_token\": \"<EOS>\",\n",
        "        \"pad_token\": \"<PAD>\",\n",
        "        \"additional_special_tokens\": [\n",
        "            \"<superhero>\",\n",
        "            \"<action>\",\n",
        "            \"<drama>\",\n",
        "            \"<thriller>\",\n",
        "            \"<horror>\",\n",
        "            \"<comedy>\",\n",
        "            \"<sci_fi>\"\n",
        "        ],\n",
        "    }\n",
        "\n",
        "    num_added_toks = tokenizer.add_special_tokens(special_tokens_dict)\n",
        "    model.resize_token_embeddings(len(tokenizer))\n",
        "\n",
        "    if data_args.block_size <= 0: \n",
        "      # If block_size <= 0, set it to max. possible value allowed by model\n",
        "        data_args.block_size = tokenizer.model_max_length\n",
        "    else:\n",
        "        data_args.block_size = min(data_args.block_size, tokenizer.model_max_length)\n",
        "\n",
        "    # Get datasets\n",
        "\n",
        "    train_dataset = (\n",
        "        get_dataset(data_args, tokenizer=tokenizer) if training_args.do_train else None\n",
        "    )\n",
        "    eval_dataset = (\n",
        "        get_dataset(data_args, tokenizer=tokenizer, evaluate=True)\n",
        "        if training_args.do_eval\n",
        "        else None\n",
        "    )\n",
        "    data_collator = DataCollatorForLanguageModeling(\n",
        "        tokenizer=tokenizer,\n",
        "        mlm=data_args.mlm,\n",
        "    )\n",
        "\n",
        "    # Initialize our Trainer\n",
        "    trainer = Trainer(\n",
        "        model=model,\n",
        "        args=training_args,\n",
        "        data_collator=data_collator,\n",
        "        train_dataset=train_dataset,\n",
        "        eval_dataset=eval_dataset,\n",
        "        # prediction_loss_only=True,\n",
        "    )\n",
        "\n",
        "   "
      ],
      "execution_count": null,
      "outputs": []
    },
    {
      "cell_type": "code",
      "metadata": {
        "id": "w4rXzK9I_FMD"
      },
      "source": [
        " # Training\n",
        "    try:\n",
        "      if training_args.do_train:\n",
        "          model_path = (\n",
        "              model_args.model_name_or_path\n",
        "              if model_args.model_name_or_path is not None\n",
        "              and os.path.isdir(model_args.model_name_or_path)\n",
        "              else None\n",
        "          )\n",
        "          trainer.train(model_path=model_path)\n",
        "          trainer.save_model()\n",
        "          tokenizer.save_pretrained(training_args.output_dir)\n",
        "    except KeyboardInterrupt:\n",
        "      print(\"Saving model that was in the middle of training\")\n",
        "      trainer.save_model()\n",
        "      tokenizer.save_pretrained(training_args.output_dir)\n",
        "      return\n",
        "\n",
        "    # Evaluation\n",
        "    results = {}\n",
        "    if training_args.do_eval:\n",
        "        logger.info(\"*** Evaluate ***\")\n",
        "\n",
        "        eval_output = trainer.evaluate()\n",
        "\n",
        "        perplexity = math.exp(eval_output[\"eval_loss\"])\n",
        "        result = {\"perplexity\": perplexity}\n",
        "\n",
        "        output_eval_file = os.path.join(training_args.output_dir, \"eval_results_lm.txt\")\n",
        "        if trainer.is_world_process_zero():\n",
        "            with open(output_eval_file, \"w\") as writer:\n",
        "                logger.info(\"***** Eval results *****\")\n",
        "                for key in sorted(result.keys()):\n",
        "                    logger.info(\"  %s = %s\", key, str(result[key]))\n",
        "                    writer.write(\"%s = %s\\n\" % (key, str(result[key])))\n",
        "\n",
        "        results.update(result)\n",
        "\n",
        "    return results\n",
        "\n",
        "if __name__ == \"__main__\":\n",
        "    main()"
      ],
      "execution_count": null,
      "outputs": []
    },
    {
      "cell_type": "code",
      "metadata": {
        "id": "olhNj5FZX7ga"
      },
      "source": [
        "import torch\n",
        "import gc\n",
        "torch.cuda.empty_cache()\n",
        "gc.collect()\n",
        "torch.cuda.memory_summary(device=None, abbreviated=False)\n"
      ],
      "execution_count": null,
      "outputs": []
    },
    {
      "cell_type": "markdown",
      "metadata": {
        "id": "fNFhyrIYSH4V"
      },
      "source": [
        "## GPT2 Story Generator"
      ]
    },
    {
      "cell_type": "code",
      "metadata": {
        "id": "xQ4GPsSfQrDH"
      },
      "source": [
        "from IPython.display import HTML, display\n",
        "\n",
        "def set_css():\n",
        "  display(HTML('''\n",
        "  <style>\n",
        "    pre {\n",
        "        white-space: pre-wrap;\n",
        "    }\n",
        "  </style>\n",
        "  '''))\n",
        "get_ipython().events.register('pre_run_cell', set_css)"
      ],
      "execution_count": null,
      "outputs": []
    },
    {
      "cell_type": "code",
      "metadata": {
        "id": "AUoTHvmHHz43"
      },
      "source": [
        "# Run these cells for story generation\n",
        "from transformers import pipeline, TextGenerationPipeline, GPT2LMHeadModel, AutoTokenizer\n",
        "\n",
        "checkpoint = \"/content/gdrive/MyDrive/story_generator_checkpoint\"\n",
        "\n",
        "model = GPT2LMHeadModel.from_pretrained(checkpoint)\n",
        "tokenizer = AutoTokenizer.from_pretrained(checkpoint)\n",
        "story_generator = TextGenerationPipeline(model=model, tokenizer=tokenizer)\n",
        "# The format for input_prompt: \"<BOS> <genre> Optional text...\"\n",
        "# Supported genres: superhero, sci_fi, horror, thriller, action, drama , comedy"
      ],
      "execution_count": null,
      "outputs": []
    },
    {
      "cell_type": "code",
      "metadata": {
        "id": "clXP7bNrPxja"
      },
      "source": [
        "input_prompt = \"<BOS> <superhero> Superman \"\n",
        "\n",
        "genre=\"<BOS> <superhero>\"\n",
        "nextStr=genre+\" \"\n",
        "input_list=[\"<BOS> <superhero> GreenArrow\",\"Green Arrow will marry felicita\"]\n",
        "extra=100\n",
        "\n",
        "\n",
        "for i in range(len(input_list)):\n",
        "  if (i==0): \n",
        "    story = story_generator(input_list[i], max_length=300, do_sample=True,\n",
        "                repetition_penalty=1.2, temperature=1.5, \n",
        "                top_p=0.95, top_k=50)\n",
        "    lst_str = str(story)[38:-2]\n",
        "    lst_str.replace('\\\\','')\n",
        "    lst_str.replace(':','')\n",
        "    lst_str.replace('/','')\n",
        "    lst_str.replace('[citation needed]','')\n",
        "    lst_str.replace('\\\\\\'s',\"'s\")\n",
        "    lst_str.replace(\"\\\\\\\\\\\\'s\",\"'s\")\n",
        "    lst_str.replace(\"\\\\'s\",\"'s\")\n",
        "    lst_str.replace(\"\\'s\",\"'s\")\n",
        "  else:\n",
        "     inputPrmpt=genre+\" \"+lst_str+input_list[i]\n",
        "     story = story_generator(inputPrmpt, max_length=300+extra, do_sample=True,\n",
        "                repetition_penalty=1.2, temperature=1.5, \n",
        "                top_p=0.95, top_k=50)\n",
        "     lst_str = str(story)[40:-3]\n",
        "     lst_str.replace('/','')\n",
        "     lst_str.replace('[citation needed]' and '\\\\\\'s' ,'')\n",
        "     lst_str.replace(\"\\\\\\\\\\\\'s\",\"'s\")\n",
        "     lst_str.replace(\"\\\\'s\",\"'s\")\n",
        "     lst_str.replace(\"\\'s\",\"'s\")\n",
        "     lst_str.replace(\"\\'\",\"'s\")\n",
        "     lst_str.replace(\"\\\\\\'\",\"\")\n",
        "     lst_str.replace(\"\\\\xa0all\",'')\n",
        "     lst_str.replace(\"xa0all\",'')\n",
        "     lst_str.replace(\"xa0w\",'')\n",
        "     lst_str.replace(\"\\ \",\"\")\n",
        "     lst_str.replace(\"\\\\\\'t\",\"'t\")\n",
        "\n",
        "\n",
        "  # nextStr=genre+\" \"+lst_str\n",
        "  \n",
        "print(lst_str,sep='\\n')\n",
        "\n",
        "\n",
        "# story = story_generator(input_prompt, max_length=300, do_sample=True,\n",
        "#                repetition_penalty=1.1, temperature=1.1, \n",
        "#                top_p=0.95, top_k=50)\n",
        "\n",
        "# print(story)"
      ],
      "execution_count": null,
      "outputs": []
    },
    {
      "cell_type": "code",
      "metadata": {
        "id": "Xb0_E__yqoJg"
      },
      "source": [
        "!pip install -U sentence-transformers\n",
        "from sklearn.metrics.pairwise import cosine_similarity\n",
        "from sentence_transformers import SentenceTransformer"
      ],
      "execution_count": null,
      "outputs": []
    },
    {
      "cell_type": "code",
      "metadata": {
        "id": "KUrUJrTesFrj"
      },
      "source": [
        "import re\n",
        "splitted=re.split('; |, |\\*|\\n',lst_str)\n",
        "splitted"
      ],
      "execution_count": null,
      "outputs": []
    },
    {
      "cell_type": "code",
      "metadata": {
        "id": "PallkIVD4EoL"
      },
      "source": [
        "model_name='bert-base-nli-mean-tokens'\n",
        "model=SentenceTransformer(model_name)\n",
        "sentence_vec1=model.encode(splitted)\n",
        "print(sentence_vec1)\n",
        "encodedSentence1=[]\n",
        "inputSentence1=[\"Superman wanted to save the people\",\"Superman wanted to defeat lex\",\"Superman realised he was not going to make it in time\"]\n"
      ],
      "execution_count": null,
      "outputs": []
    },
    {
      "cell_type": "code",
      "metadata": {
        "colab": {
          "base_uri": "https://localhost:8080/"
        },
        "id": "bX_-WN99kSeG",
        "outputId": "6de0db17-66f1-49d8-dbaa-23c66ff6cf26"
      },
      "source": [
        "\n",
        "i=0\n",
        "while i<len(inputSentence1):\n",
        "  encodedSentence1.insert(i,model.encode(inputSentence1[i]))\n",
        "  i+=1\n",
        "\n",
        "\n",
        "i = 0\n",
        "# k=0\n",
        "list_of_probabilities1=[]\n",
        "list_of_indicies1=[]\n",
        "for z in range(len(inputSentence1)):\n",
        "  while i < len(splitted):\n",
        "    list_of_probabilities1.append(cosine_similarity([sentence_vec1[i]],[encodedSentence1[z]]))\n",
        "    i += 1\n",
        "  lf1 = [val for sublist in list_of_probabilities1 for val in sublist]\n",
        "  lf3=[val for sublist in lf1 for val in sublist]\n",
        "  print(lf3)\n",
        "  x = max(lf3)\n",
        "  list_of_indicies1.append(str(list_of_probabilities1.index(x)))\n",
        "  print(\"Highest Probability equals::\")\n",
        "  print(x)\n",
        "  print(\"Index::\" + str(list_of_probabilities1.index(x)))\n",
        "  print(\"Sentence::\" + splitted[list_of_probabilities1.index(x)])\n",
        "  #re initiallizing for next sentence\n",
        "  list_of_probabilities1=[]\n",
        "  i=0\n"
      ],
      "execution_count": null,
      "outputs": [
        {
          "output_type": "stream",
          "text": [
            "[0.55044043, 0.59023726, 0.34525743, 0.29555026, 0.2212148, 0.51163626, 0.31914347, 0.56692296, 0.5472468, 0.33621794, 0.5374538]\n",
            "Highest Probability equals::\n",
            "0.59023726\n",
            "Index::1\n",
            "Sentence::Bizarro on his way to capture Lex Luthor alive and to claim his mind for a captive mind control formula that will create more powerful superheroes\n",
            "[0.69780433, 0.7010479, 0.61354834, 0.36239588, 0.37286794, 0.6854222, 0.35786703, 0.7023071, 0.6634961, 0.33929905, 0.716362]\n",
            "Highest Probability equals::\n",
            "0.716362\n",
            "Index::10\n",
            "Sentence::unaware of Lexia)to attack him but are disarmed by Superman before they arrive to take Bruce hostage instead returning Wonderwoman to him. Luthor escapes however only realizing she may already have his back. Luthor leaves in tears with Batman calling Clark out for using\n",
            "[0.4427575, 0.38232747, 0.33735064, 0.37573242, 0.28546485, 0.49798638, 0.46232992, 0.56747067, 0.47173285, 0.29046378, 0.5327936]\n",
            "Highest Probability equals::\n",
            "0.56747067\n",
            "Index::7\n",
            "Sentence::along they are met Batman-Heta/Warrior/Superman duo Wally Woodbourne\\\\xa0or Dick Grayson due by mistake as soon before Krypton explodes\n"
          ],
          "name": "stdout"
        }
      ]
    },
    {
      "cell_type": "code",
      "metadata": {
        "id": "iYoYsZvo4vdi"
      },
      "source": [
        "for i in range(len(inputSentence1)):\n",
        "  splitted.insert(int(list_of_indicies1[i]),inputSentence1[i])\n",
        "\n",
        "print(*splitted,sep='\\n')"
      ],
      "execution_count": null,
      "outputs": []
    },
    {
      "cell_type": "markdown",
      "metadata": {
        "id": "p1Ix3AOEjsa9"
      },
      "source": [
        "\n",
        "# EMBEDDING SENTENCES IN AN EXISTING STORY\n"
      ]
    },
    {
      "cell_type": "code",
      "metadata": {
        "id": "_yhsXzgKjfB5"
      },
      "source": [
        "!pip install -U sentence-transformers\n",
        "!pip install pyngrok\n",
        "!pip install jupyter-dash"
      ],
      "execution_count": null,
      "outputs": []
    },
    {
      "cell_type": "code",
      "metadata": {
        "id": "PtFB-I7X4dSQ"
      },
      "source": [
        "import nltk\n",
        "from nltk.corpus import stopwords\n",
        "from sklearn.feature_extraction.text import TfidfVectorizer\n",
        "from sklearn.metrics.pairwise import cosine_similarity\n",
        "from sentence_transformers import SentenceTransformer\n",
        "from pyngrok import ngrok\n",
        "from jupyter_dash import JupyterDash\n",
        "import dash_core_components as dcc\n",
        "import dash_html_components as html\n",
        "from dash.dependencies import Input,Output,State"
      ],
      "execution_count": 12,
      "outputs": []
    },
    {
      "cell_type": "code",
      "metadata": {
        "colab": {
          "base_uri": "https://localhost:8080/"
        },
        "id": "RO10c7yLLg0G",
        "outputId": "02aa6209-3c3b-4f47-8b80-df954628d30e"
      },
      "source": [
        "from google.colab import drive\n",
        "drive.mount('/content/drive')"
      ],
      "execution_count": 4,
      "outputs": [
        {
          "output_type": "stream",
          "text": [
            "Mounted at /content/drive\n"
          ],
          "name": "stdout"
        }
      ]
    },
    {
      "cell_type": "code",
      "metadata": {
        "id": "8eRfmoDwjfMr"
      },
      "source": [
        "import os\n",
        "import re\n",
        "\n",
        "directory = '/content/drive/MyDrive/Colab Notebooks/KidsStoriesAnimals'\n",
        "\n",
        "TempM=[]\n",
        "Temp=[]\n",
        "StryName=[]\n",
        "# i=0\n",
        "for filename in os.listdir(directory):\n",
        "    if filename.endswith(\".txt\"):\n",
        "        TempX=[]\n",
        "        with open(\"/content/drive/MyDrive/Colab Notebooks/KidsStoriesAnimals\"+'/'+filename,\"r\") as f:\n",
        "           TempX = [line.replace('\\n','') for line in f.readlines() ]\n",
        "           TempX= [  line.split('.') for line in TempX]\n",
        "           TempX= [val for sublist in TempX for val in sublist]\n",
        "           TempX= [  line.split('?') for line in TempX]\n",
        "           TempX= [val for sublist in TempX for val in sublist]\n",
        "           TempX= list(filter(lambda x: x!=' ’ \\n' and x!='\"\\n' and x!='\\n' and x!='’\\n' and x!=' \\n', TempX))\n",
        "          #  TempX= [ l for l in line.split('?') for line in TempX]\n",
        "        TempM.append(TempX)\n",
        "        StryName.append(filename)\n",
        "        continue\n",
        "    else:\n",
        "      continue  \n",
        "# TempM return each story as a list where each line is a string\n",
        "print(TempM)           "
      ],
      "execution_count": null,
      "outputs": []
    },
    {
      "cell_type": "code",
      "metadata": {
        "id": "4rvs5CBjV25s"
      },
      "source": [
        "StryName"
      ],
      "execution_count": null,
      "outputs": []
    },
    {
      "cell_type": "code",
      "metadata": {
        "id": "ZsIlznxQjgLv"
      },
      "source": [
        "StrpStry=[]\n",
        "for i in range(0,4):\n",
        "  with open(\"/content/drive/MyDrive/Colab Notebooks/KidsStoriesAnimals/\"+StryName[i], \"r\") as a_file:\n",
        "      x=a_file.readlines()\n",
        "      StrpStry.append(x)\n",
        "print(StrpStry)"
      ],
      "execution_count": null,
      "outputs": []
    },
    {
      "cell_type": "markdown",
      "metadata": {
        "id": "UJs6EIygBbwi"
      },
      "source": [
        "TF-idf/Cosine Similarity"
      ]
    },
    {
      "cell_type": "code",
      "metadata": {
        "id": "sIUTxOYwj1v1"
      },
      "source": [
        "import pandas as pd\n",
        "from sklearn.feature_extraction.text import TfidfVectorizer\n",
        "vectorizer = TfidfVectorizer()\n",
        "inputSentence=[\"The lion is known as the strongest animal.\",\"The lion wieghts 40kg\",\"Nearly all wild lions live in Africa.\",\"Lions are the second largest big cat species in the world \"] \n",
        "\n",
        "#Tf-idf part\n",
        "ss=TempM[0]\n",
        "TempMRemovedBraces = str(ss)[2:-2]\n",
        "\n",
        "for j in range(len(StrpStry)):\n",
        "  for i in range(len(inputSentence)):\n",
        " \n",
        "    vectors=vectorizer.fit_transform([inputSentence[i],TempMRemovedBraces])\n",
        "    # print(vectors)\n",
        "    feature_names = vectorizer.get_feature_names()\n",
        "    feature_names\n",
        "    dense = vectors.todense()\n",
        "    dense\n",
        "    denselist = dense.tolist()\n",
        "    df = pd.DataFrame(denselist, columns=feature_names)\n",
        "    df.head()"
      ],
      "execution_count": 15,
      "outputs": []
    },
    {
      "cell_type": "code",
      "metadata": {
        "id": "O1qWW82LzvTO"
      },
      "source": [
        "df.head()"
      ],
      "execution_count": null,
      "outputs": []
    },
    {
      "cell_type": "code",
      "metadata": {
        "id": "lMM8HZG-kCGH"
      },
      "source": [
        "model_name='bert-base-nli-mean-tokens'\n",
        "model=SentenceTransformer(model_name)"
      ],
      "execution_count": null,
      "outputs": []
    },
    {
      "cell_type": "code",
      "metadata": {
        "id": "JRFttif41WDd"
      },
      "source": [
        "k=0\n",
        "flattened=[]\n",
        "while k<len(TempM):\n",
        "  flattened.insert(k,TempM[k])\n",
        "\n",
        "  k+=1"
      ],
      "execution_count": 18,
      "outputs": []
    },
    {
      "cell_type": "code",
      "metadata": {
        "id": "yUt8h0T4Yxkm"
      },
      "source": [
        "# Flattened di gowaha el story based on el Tfidf l highest probabilistic story bas each line as a string\n",
        "flattened"
      ],
      "execution_count": null,
      "outputs": []
    },
    {
      "cell_type": "code",
      "metadata": {
        "colab": {
          "base_uri": "https://localhost:8080/"
        },
        "id": "RZYaajoRBW9L",
        "outputId": "207666d7-d2bc-4038-e7ea-20ddaeacaf96"
      },
      "source": [
        "inputSentenceFind=[\"The lion is known as the strongest animal.\",\"The lion wieghts 40kg\",\"Nearly all wild lions live in Africa.\",\"Lions are the second largest big cat species in the world \"]\n",
        "\n",
        "\n",
        "\n",
        "max_of_prob=[]\n",
        "\n",
        "def iter(w):\n",
        "  l=0\n",
        "  i = 0\n",
        "  list_of_probabilitiesFind=[]\n",
        "  list_of_indiciesFind=[]\n",
        "  list_of_summation=[]\n",
        "  Sum=0\n",
        "  encodedSentenceFind=[]\n",
        "\n",
        "\n",
        "  while l<len(inputSentenceFind):\n",
        "    encodedSentenceFind.insert(l,model.encode(inputSentenceFind[l]))\n",
        "    l+=1\n",
        "\n",
        "  sentence_vecFind=model.encode(flattened[w]) \n",
        "  for z in range(len(inputSentenceFind)):\n",
        "    while i < len(flattened[w]):\n",
        "      list_of_probabilitiesFind.append(cosine_similarity([sentence_vecFind[i]],[encodedSentenceFind[z]]))\n",
        "      i += 1\n",
        "\n",
        "      lfFind = [val for sublist in list_of_probabilitiesFind for val in sublist]\n",
        "      lf2Find=[val for sublist in lfFind for val in sublist]\n",
        "      Sum=sum(lf2Find)\n",
        "    \n",
        "    \n",
        "\n",
        "  list_of_summation.insert(i,Sum)\n",
        "  max_of_prob.append(Sum)\n",
        "  print(list_of_summation)\n",
        "\n",
        "\n",
        "\n",
        "for k in range(len(StryName)):\n",
        " iter(k)\n",
        "  "
      ],
      "execution_count": 20,
      "outputs": [
        {
          "output_type": "stream",
          "text": [
            "[4.078954845666885]\n",
            "[3.8967683725059032]\n",
            "[5.183547884225845]\n",
            "[3.651772966608405]\n",
            "[3.969139814376831]\n",
            "[3.762232281267643]\n",
            "[5.480589911341667]\n",
            "[4.690201431512833]\n",
            "[5.670741245150566]\n",
            "[3.1850018398836255]\n",
            "[2.500084649771452]\n",
            "[3.595407359302044]\n",
            "[4.61608912050724]\n",
            "[4.047555696219206]\n",
            "[3.325271040201187]\n",
            "[3.64690400660038]\n",
            "[2.7894230894744396]\n",
            "[3.7276982963085175]\n",
            "[2.4197152256965637]\n",
            "[2.9601545725017786]\n",
            "[5.30040667951107]\n",
            "[2.539410039782524]\n",
            "[3.4446830600500107]\n",
            "[9.089810458943248]\n",
            "[8.332331269979477]\n",
            "[7.58671922981739]\n",
            "[4.29197883605957]\n",
            "[8.50268267467618]\n",
            "[7.438970921561122]\n",
            "[11.702724866569042]\n",
            "[1.297847032546997]\n",
            "[3.6314667612314224]\n",
            "[3.6071623638272285]\n",
            "[3.358213111758232]\n",
            "[3.0687973722815514]\n",
            "[4.225390233099461]\n",
            "[3.8077969513833523]\n",
            "[3.8193444423377514]\n",
            "[2.446199208498001]\n",
            "[1.8353876173496246]\n",
            "[3.6504612416028976]\n",
            "[3.125282547902316]\n",
            "[4.228650056757033]\n",
            "[4.3569560796022415]\n",
            "[9.909606277942657]\n",
            "[4.80605760589242]\n",
            "[2.506164714694023]\n",
            "[2.6060285568237305]\n",
            "[3.0842764638364315]\n",
            "[2.5318931192159653]\n",
            "[1.4626248478889465]\n",
            "[3.1110252887010574]\n",
            "[1.6110804602503777]\n",
            "[3.148409552872181]\n",
            "[2.865634448826313]\n",
            "[2.277096316218376]\n",
            "[2.5630986988544464]\n",
            "[2.466797783970833]\n",
            "[4.4093732088804245]\n",
            "[2.56591022759676]\n",
            "[3.269937437027693]\n",
            "[4.457644522190094]\n",
            "[2.0586725622415543]\n",
            "[2.314342426136136]\n",
            "[2.768981620669365]\n",
            "[2.578643348067999]\n",
            "[0]\n"
          ],
          "name": "stdout"
        }
      ]
    },
    {
      "cell_type": "code",
      "metadata": {
        "colab": {
          "base_uri": "https://localhost:8080/"
        },
        "id": "hGHbNvETEHD3",
        "outputId": "5471523b-0d5f-4691-cba8-e56778a6e813"
      },
      "source": [
        "# Finding the matching story name and its index in our files\n",
        "maximum=max(max_of_prob)\n",
        "Indx=max_of_prob.index(maximum)\n",
        "print(\"Index::\",Indx)\n",
        "print(StryName[Indx])"
      ],
      "execution_count": 21,
      "outputs": [
        {
          "output_type": "stream",
          "text": [
            "Index:: 29\n",
            "the-camel,-the-jackal-and-the-crow.txt\n"
          ],
          "name": "stdout"
        }
      ]
    },
    {
      "cell_type": "markdown",
      "metadata": {
        "id": "G1nI-C-7GlkS"
      },
      "source": [
        "## Cosine similarity to insert the sentences \n"
      ]
    },
    {
      "cell_type": "code",
      "metadata": {
        "id": "2fJKblwNj-cb"
      },
      "source": [
        "Story=TempM[Indx]\n",
        "sentence_vec=model.encode(Story) \n",
        "encodedSentence=[]\n",
        "inputSentence=[\"The lion is the strongest animal.\",\"The lion wieghts 40kg\",\"Nearly all wild lions live in Africa.\",\"Lions are the second largest big cat species in the world \"]\n",
        "i=0\n",
        "while i<len(inputSentence):\n",
        "  encodedSentence.insert(i,model.encode(inputSentence[i]))\n",
        "  i+=1\n"
      ],
      "execution_count": 23,
      "outputs": []
    },
    {
      "cell_type": "code",
      "metadata": {
        "colab": {
          "base_uri": "https://localhost:8080/"
        },
        "id": "SCO_5KP1kFV2",
        "outputId": "c090f1c4-29fb-4f52-98e9-d80dbde3395d"
      },
      "source": [
        "i = 0\n",
        "# k=0\n",
        "list_of_probabilities=[]\n",
        "list_of_indicies=[]\n",
        "for z in range(len(inputSentence)):\n",
        "  while i < len(Story):\n",
        "    list_of_probabilities.append(cosine_similarity([sentence_vec[i]],[encodedSentence[z]]))\n",
        "    i += 1\n",
        "\n",
        "  lf = [val for sublist in list_of_probabilities for val in sublist]\n",
        "  lf2=[val for sublist in lf for val in sublist]\n",
        "  x = max(lf2)\n",
        "  list_of_indicies.append(str(list_of_probabilities.index(x)))\n",
        "  print(\"Highest Probability equals::\")\n",
        "  print(x)\n",
        "  print(\"Index::\" + str(list_of_probabilities.index(x)))\n",
        "  print(\"Sentence::\" + Story[list_of_probabilities.index(x)])\n",
        "  #re initiallizing for next sentence\n",
        "  list_of_probabilities=[]\n",
        "  i=0\n"
      ],
      "execution_count": 24,
      "outputs": [
        {
          "output_type": "stream",
          "text": [
            "Highest Probability equals::\n",
            "0.565962\n",
            "Index::11\n",
            "Sentence::” asked the Lion\n",
            "Highest Probability equals::\n",
            "0.4437638\n",
            "Index::30\n",
            "Sentence::”The leopard intervened and said “Oh lord, I am bigger in size than my friends\n",
            "Highest Probability equals::\n",
            "0.69329476\n",
            "Index::0\n",
            "Sentence::Long ago in the dense forest of botswana, there lived a lion named wils\n",
            "Highest Probability equals::\n",
            "0.65163016\n",
            "Index::30\n",
            "Sentence::”The leopard intervened and said “Oh lord, I am bigger in size than my friends\n"
          ],
          "name": "stdout"
        }
      ]
    },
    {
      "cell_type": "code",
      "metadata": {
        "colab": {
          "base_uri": "https://localhost:8080/"
        },
        "id": "KAgorCDG-93D",
        "outputId": "c28512c8-937b-4372-c606-38fb03323548"
      },
      "source": [
        "for i in range(len(inputSentence)):\n",
        "  Story.insert(int(list_of_indicies[i])+1,inputSentence[i])\n",
        "\n",
        "print(*Story)\n"
      ],
      "execution_count": 25,
      "outputs": [
        {
          "output_type": "stream",
          "text": [
            "Long ago in the dense forest of botswana, there lived a lion named wils Nearly all wild lions live in Africa.  His loyal servants were a leopard, a jackal and a crow One day, the crow spotted a strange creature coming their way  He came flying back to his friends and said, “There is someone unusual coming this way  We should be careful ”“I am the king of the jungle,” said the lion  Why should I be afraid  Let’s go and meet him ”When they saw the animal they were all surprised  They had never seen such a creature with long legs and a big hump on its back  “Who is it and what is it doing in my jungle ” asked the Lion The lion is the strongest animal. “I am Todi, the camel,” he said  “I was a part of a trade caravan  I lost my way  Please help me!”Out of pity, the lion asked him to stay along with them  The other three were not happy, but they had to respect the Lion’s wishes Days passed by  One day the lion had a great fight with an elephant  The lion was badly injured and was too weak to hunt His servants were too lazy to hunt and provide food for the lion  The jackal took the crow aside and said, “Friend, why don’t we kill the camel and survive ”“No doubt it’s a great idea, but how  Our lord has assured him protection,” said the crow Together they made a secret plan to kill the camel  With tears in their eyes, they went to the lion  “There is no food in the forest my lord,” said the sly crow, “But I request you to have me for your meal ”“No, your body is too small to satisfy the hunger of my lord,” said the jackal, showing his loyalty  “Let me sacrifice myself Lions are the second largest big cat species in the world   That is the least I can do for my lord The lion wieghts 40kg ”The leopard intervened and said “Oh lord, I am bigger in size than my friends  So let me give away my life to save your life ”All this while the camel was listening silently; he thought “Let me oiler myself as well ” Expecting the support of his friends the camel said, “My friends, you have been serving our lord for years  It will be difficult for the lord to kill one of you  Will you all let me offer myself ”The camel then came forward and requested the lion to have him for that day’s meal  At once, the jackal and the leopard pounced on the camel and tore him to pieces MORALIt is wise choose your friends carefully  4742\n"
          ],
          "name": "stdout"
        }
      ]
    },
    {
      "cell_type": "markdown",
      "metadata": {
        "id": "NuXseJpTRD8i"
      },
      "source": [
        "# Running with Flask"
      ]
    },
    {
      "cell_type": "code",
      "metadata": {
        "id": "zUhNmr2eKvSO"
      },
      "source": [
        "!pip install flask_ngrok\n",
        "from flask_ngrok import run_with_ngrok\n",
        "from flask import Flask, render_template\n",
        "\n",
        "app=Flask(__name__)\n",
        "run_with_ngrok(app)\n",
        "\n",
        "@app.route('/')\n",
        "def "
      ],
      "execution_count": null,
      "outputs": []
    },
    {
      "cell_type": "code",
      "metadata": {
        "id": "rFYkIDBRRHV6"
      },
      "source": [
        ""
      ],
      "execution_count": null,
      "outputs": []
    },
    {
      "cell_type": "markdown",
      "metadata": {
        "id": "CGUQ49vhQ7t0"
      },
      "source": [
        "# Running With JupyterDash"
      ]
    },
    {
      "cell_type": "code",
      "metadata": {
        "id": "om6UQpxv5AWW"
      },
      "source": [
        "app=JupyterDash(__name__)\n",
        "colors = {\n",
        "    'background': '#100011',\n",
        "    'text': '#465B9D'\n",
        "}\n",
        "app.layout=html.Div(#style={'backgroundColor': colors['background']}, children=[\n",
        "    [\n",
        "  html.H1(\"Hiding Learning Information\",\n",
        "          style={\n",
        "            'textAlign': 'center',\n",
        "            'color': colors['text'],\n",
        "            'fontSize':'38px'\n",
        "\n",
        "        }),\n",
        "  html.Div(children='Please enter five facts about a specific animal',\n",
        "    style={\n",
        "        'fontSize':'18px',\n",
        "        'fontFamily':'Copperplate',\n",
        "        'fontWieght':'Bold',\n",
        "        'textAlign': 'center',\n",
        "    }),\n",
        "  html.Div(dcc.Input(id='input-submit1', type='text',placeholder=\"Enter your First fact\",style={'marginTop':'6px','width':'30%','border':'2px solid #aaa','borderRadius':'4px','padding':'6px','boxSizing':'border-box','borderColor':'dodgerBlue','boxShadow':'0 0 4px 0 dodgerBlue'}),style={'marginTop':'10px','textAlign':'center'}),   \n",
        "  html.Div(dcc.Input(id='input-submit2', type='text',placeholder=\"Enter your Second fact\",style={'marginTop':'6px','width':'30%','border':'2px solid #aaa','borderRadius':'4px','padding':'6px','boxSizing':'border-box','borderColor':'dodgerBlue','boxShadow':'0 0 4px 0 dodgerBlue'}),style={'marginTop':'10px','textAlign':'center'}),\n",
        "  html.Div(dcc.Input(id='input-submit3', type='text',placeholder=\"Enter your Third fact\",style={'marginTop':'6px','width':'30%','border':'2px solid #aaa','borderRadius':'4px','padding':'6px','boxSizing':'border-box','borderColor':'dodgerBlue','boxShadow':'0 0 4px 0 dodgerBlue'}),style={'marginTop':'10px','textAlign':'center'}),\n",
        "  html.Div(dcc.Input(id='input-submit4', type='text',placeholder=\"Enter your Fourth fact\",style={'marginTop':'6px','width':'30%','border':'2px solid #aaa','borderRadius':'4px','padding':'6px','boxSizing':'border-box','borderColor':'dodgerBlue','boxShadow':'0 0 4px 0 dodgerBlue'}),style={'marginTop':'10px','textAlign':'center'}),\n",
        "  html.Div(dcc.Input(id='input-submit5', type='text',placeholder=\"Enter your Last fact\",style={'marginTop':'6px','width':'30%','border':'2px solid #aaa','borderRadius':'4px','padding':'6px','boxSizing':'border-box','borderColor':'dodgerBlue','boxShadow':'0 0 4px 0 dodgerBlue'}),style={'marginTop':'10px','textAlign':'center'}),\n",
        "\n",
        "    html.Div(html.Button('SUBMIT', id='submit-btn', n_clicks=0,style={\n",
        "        'fontFamily':'Source Sans Pro sans-serif',\n",
        "        'letterSpacing':'4px',\n",
        "        'borderRadius':'20px',\n",
        "        'outline':'none',\n",
        "        'lineHeight':'1',\n",
        "        'background-color':'#465B9D',\n",
        "        'color': 'white',\n",
        "        'padding': '12px' ,\n",
        "        'marginTop':'25px',\n",
        "        'textAlign': 'center',\n",
        "        'display':'inline-block',\n",
        "        'fontSize': '16px'\n",
        "        }),\n",
        "         style={'textAlign': 'center'})\n",
        "\n",
        "])\n",
        "\n",
        "# app.callback(\n",
        "#     Output(component_id=),\n",
        "#     [Input(component_id='input-submit1')],\n",
        "#     prevent_initial_call=false\n",
        "# )"
      ],
      "execution_count": 6,
      "outputs": []
    },
    {
      "cell_type": "code",
      "metadata": {
        "id": "boriW7tz5CqR"
      },
      "source": [
        "app.run_server(mode='external',debug=False)"
      ],
      "execution_count": null,
      "outputs": []
    },
    {
      "cell_type": "code",
      "metadata": {
        "id": "CzmAXd605D7m"
      },
      "source": [
        "! ngrok authtoken 1vDOU1kP3NtXW5wm2fadH9gvk0c_47Pxg3adCqEeBx6x8Eoz2"
      ],
      "execution_count": null,
      "outputs": []
    },
    {
      "cell_type": "code",
      "metadata": {
        "id": "45CaCYGH5FMO"
      },
      "source": [
        "from pyngrok import ngrok\n",
        "public_url=ngrok.connect('8050')"
      ],
      "execution_count": null,
      "outputs": []
    },
    {
      "cell_type": "code",
      "metadata": {
        "id": "3SLMFKeG5GT_"
      },
      "source": [
        "public_url"
      ],
      "execution_count": null,
      "outputs": []
    },
    {
      "cell_type": "code",
      "metadata": {
        "id": "LG5ueu3i5Hg7"
      },
      "source": [
        "ngrok.kill()"
      ],
      "execution_count": null,
      "outputs": []
    }
  ]
}